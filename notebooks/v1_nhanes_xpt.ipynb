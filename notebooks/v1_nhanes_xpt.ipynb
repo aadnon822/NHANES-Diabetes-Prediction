{
 "cells": [
  {
   "cell_type": "code",
   "execution_count": 1,
   "id": "a0b0e61c-7cf8-46c9-b4b9-0aff2a7aac97",
   "metadata": {},
   "outputs": [],
   "source": [
    "import os\n",
    "import requests\n",
    "\n",
    "# Folder to store the downloaded files\n",
    "output_folder = \"nhanes_xpt\"\n",
    "os.makedirs(output_folder, exist_ok=True)\n",
    "\n",
    "# List of essential files and their URLs (2017–2018 cycle)\n",
    "files = {\n",
    "    \"DEMO_J.XPT\": \"https://wwwn.cdc.gov/Nchs/Nhanes/2017-2018/DEMO_J.XPT\",\n",
    "    \"BMX_J.XPT\": \"https://wwwn.cdc.gov/Nchs/Nhanes/2017-2018/BMX_J.XPT\",\n",
    "    \"GLU_J.XPT\": \"https://wwwn.cdc.gov/Nchs/Nhanes/2017-2018/GLU_J.XPT\",\n",
    "    \"A1C_J.XPT\": \"https://wwwn.cdc.gov/Nchs/Nhanes/2017-2018/A1C_J.XPT\",\n",
    "    \"INS_J.XPT\": \"https://wwwn.cdc.gov/Nchs/Nhanes/2017-2018/INS_J.XPT\",\n",
    "    \"DIQ_J.XPT\": \"https://wwwn.cdc.gov/Nchs/Nhanes/2017-2018/DIQ_J.XPT\",\n",
    "    \"DR1TOT_J.XPT\": \"https://wwwn.cdc.gov/Nchs/Nhanes/2017-2018/DR1TOT_J.XPT\",\n",
    "    \"PAQ_J.XPT\": \"https://wwwn.cdc.gov/Nchs/Nhanes/2017-2018/PAQ_J.XPT\"\n",
    "}\n",
    "\n",
    "# Optional: fake browser header to avoid being blocked\n",
    "headers = {\n",
    "    \"User-Agent\": \"Mozilla/5.0\"\n",
    "}\n"
   ]
  },
  {
   "cell_type": "code",
   "execution_count": 2,
   "id": "96d8f0c0-6adb-41ca-b3cb-13d8f24014a9",
   "metadata": {},
   "outputs": [
    {
     "ename": "ValueError",
     "evalue": "Header record is not an XPORT file.",
     "output_type": "error",
     "traceback": [
      "\u001b[31m---------------------------------------------------------------------------\u001b[39m",
      "\u001b[31mValueError\u001b[39m                                Traceback (most recent call last)",
      "\u001b[36mCell\u001b[39m\u001b[36m \u001b[39m\u001b[32mIn[2]\u001b[39m\u001b[32m, line 4\u001b[39m\n\u001b[32m      1\u001b[39m \u001b[38;5;28;01mimport\u001b[39;00m\u001b[38;5;250m \u001b[39m\u001b[34;01mpandas\u001b[39;00m\u001b[38;5;250m \u001b[39m\u001b[38;5;28;01mas\u001b[39;00m\u001b[38;5;250m \u001b[39m\u001b[34;01mpd\u001b[39;00m\n\u001b[32m      3\u001b[39m \u001b[38;5;66;03m# Load each file into a DataFrame\u001b[39;00m\n\u001b[32m----> \u001b[39m\u001b[32m4\u001b[39m demo = \u001b[43mpd\u001b[49m\u001b[43m.\u001b[49m\u001b[43mread_sas\u001b[49m\u001b[43m(\u001b[49m\u001b[43mos\u001b[49m\u001b[43m.\u001b[49m\u001b[43mpath\u001b[49m\u001b[43m.\u001b[49m\u001b[43mjoin\u001b[49m\u001b[43m(\u001b[49m\u001b[43moutput_folder\u001b[49m\u001b[43m,\u001b[49m\u001b[43m \u001b[49m\u001b[33;43m\"\u001b[39;49m\u001b[33;43mDEMO_J.XPT\u001b[39;49m\u001b[33;43m\"\u001b[39;49m\u001b[43m)\u001b[49m\u001b[43m,\u001b[49m\u001b[43m \u001b[49m\u001b[38;5;28;43mformat\u001b[39;49m\u001b[43m=\u001b[49m\u001b[33;43m\"\u001b[39;49m\u001b[33;43mxport\u001b[39;49m\u001b[33;43m\"\u001b[39;49m\u001b[43m)\u001b[49m\n\u001b[32m      5\u001b[39m bmx = pd.read_sas(os.path.join(output_folder, \u001b[33m\"\u001b[39m\u001b[33mBMX_J.XPT\u001b[39m\u001b[33m\"\u001b[39m), \u001b[38;5;28mformat\u001b[39m=\u001b[33m\"\u001b[39m\u001b[33mxport\u001b[39m\u001b[33m\"\u001b[39m)\n\u001b[32m      6\u001b[39m glu = pd.read_sas(os.path.join(output_folder, \u001b[33m\"\u001b[39m\u001b[33mGLU_J.XPT\u001b[39m\u001b[33m\"\u001b[39m), \u001b[38;5;28mformat\u001b[39m=\u001b[33m\"\u001b[39m\u001b[33mxport\u001b[39m\u001b[33m\"\u001b[39m)\n",
      "\u001b[36mFile \u001b[39m\u001b[32m~\\myenv\\Lib\\site-packages\\pandas\\io\\sas\\sasreader.py:154\u001b[39m, in \u001b[36mread_sas\u001b[39m\u001b[34m(filepath_or_buffer, format, index, encoding, chunksize, iterator, compression)\u001b[39m\n\u001b[32m    151\u001b[39m \u001b[38;5;28;01mif\u001b[39;00m \u001b[38;5;28mformat\u001b[39m.lower() == \u001b[33m\"\u001b[39m\u001b[33mxport\u001b[39m\u001b[33m\"\u001b[39m:\n\u001b[32m    152\u001b[39m     \u001b[38;5;28;01mfrom\u001b[39;00m\u001b[38;5;250m \u001b[39m\u001b[34;01mpandas\u001b[39;00m\u001b[34;01m.\u001b[39;00m\u001b[34;01mio\u001b[39;00m\u001b[34;01m.\u001b[39;00m\u001b[34;01msas\u001b[39;00m\u001b[34;01m.\u001b[39;00m\u001b[34;01msas_xport\u001b[39;00m\u001b[38;5;250m \u001b[39m\u001b[38;5;28;01mimport\u001b[39;00m XportReader\n\u001b[32m--> \u001b[39m\u001b[32m154\u001b[39m     reader = \u001b[43mXportReader\u001b[49m\u001b[43m(\u001b[49m\n\u001b[32m    155\u001b[39m \u001b[43m        \u001b[49m\u001b[43mfilepath_or_buffer\u001b[49m\u001b[43m,\u001b[49m\n\u001b[32m    156\u001b[39m \u001b[43m        \u001b[49m\u001b[43mindex\u001b[49m\u001b[43m=\u001b[49m\u001b[43mindex\u001b[49m\u001b[43m,\u001b[49m\n\u001b[32m    157\u001b[39m \u001b[43m        \u001b[49m\u001b[43mencoding\u001b[49m\u001b[43m=\u001b[49m\u001b[43mencoding\u001b[49m\u001b[43m,\u001b[49m\n\u001b[32m    158\u001b[39m \u001b[43m        \u001b[49m\u001b[43mchunksize\u001b[49m\u001b[43m=\u001b[49m\u001b[43mchunksize\u001b[49m\u001b[43m,\u001b[49m\n\u001b[32m    159\u001b[39m \u001b[43m        \u001b[49m\u001b[43mcompression\u001b[49m\u001b[43m=\u001b[49m\u001b[43mcompression\u001b[49m\u001b[43m,\u001b[49m\n\u001b[32m    160\u001b[39m \u001b[43m    \u001b[49m\u001b[43m)\u001b[49m\n\u001b[32m    161\u001b[39m \u001b[38;5;28;01melif\u001b[39;00m \u001b[38;5;28mformat\u001b[39m.lower() == \u001b[33m\"\u001b[39m\u001b[33msas7bdat\u001b[39m\u001b[33m\"\u001b[39m:\n\u001b[32m    162\u001b[39m     \u001b[38;5;28;01mfrom\u001b[39;00m\u001b[38;5;250m \u001b[39m\u001b[34;01mpandas\u001b[39;00m\u001b[34;01m.\u001b[39;00m\u001b[34;01mio\u001b[39;00m\u001b[34;01m.\u001b[39;00m\u001b[34;01msas\u001b[39;00m\u001b[34;01m.\u001b[39;00m\u001b[34;01msas7bdat\u001b[39;00m\u001b[38;5;250m \u001b[39m\u001b[38;5;28;01mimport\u001b[39;00m SAS7BDATReader\n",
      "\u001b[36mFile \u001b[39m\u001b[32m~\\myenv\\Lib\\site-packages\\pandas\\io\\sas\\sas_xport.py:280\u001b[39m, in \u001b[36mXportReader.__init__\u001b[39m\u001b[34m(self, filepath_or_buffer, index, encoding, chunksize, compression)\u001b[39m\n\u001b[32m    277\u001b[39m \u001b[38;5;28mself\u001b[39m.filepath_or_buffer = \u001b[38;5;28mself\u001b[39m.handles.handle\n\u001b[32m    279\u001b[39m \u001b[38;5;28;01mtry\u001b[39;00m:\n\u001b[32m--> \u001b[39m\u001b[32m280\u001b[39m     \u001b[38;5;28;43mself\u001b[39;49m\u001b[43m.\u001b[49m\u001b[43m_read_header\u001b[49m\u001b[43m(\u001b[49m\u001b[43m)\u001b[49m\n\u001b[32m    281\u001b[39m \u001b[38;5;28;01mexcept\u001b[39;00m \u001b[38;5;167;01mException\u001b[39;00m:\n\u001b[32m    282\u001b[39m     \u001b[38;5;28mself\u001b[39m.close()\n",
      "\u001b[36mFile \u001b[39m\u001b[32m~\\myenv\\Lib\\site-packages\\pandas\\io\\sas\\sas_xport.py:303\u001b[39m, in \u001b[36mXportReader._read_header\u001b[39m\u001b[34m(self)\u001b[39m\n\u001b[32m    297\u001b[39m     \u001b[38;5;28;01mif\u001b[39;00m \u001b[33m\"\u001b[39m\u001b[33m**COMPRESSED**\u001b[39m\u001b[33m\"\u001b[39m \u001b[38;5;129;01min\u001b[39;00m line1:\n\u001b[32m    298\u001b[39m         \u001b[38;5;66;03m# this was created with the PROC CPORT method and can't be read\u001b[39;00m\n\u001b[32m    299\u001b[39m         \u001b[38;5;66;03m# https://documentation.sas.com/doc/en/pgmsascdc/9.4_3.5/movefile/p1bm6aqp3fw4uin1hucwh718f6kp.htm\u001b[39;00m\n\u001b[32m    300\u001b[39m         \u001b[38;5;28;01mraise\u001b[39;00m \u001b[38;5;167;01mValueError\u001b[39;00m(\n\u001b[32m    301\u001b[39m             \u001b[33m\"\u001b[39m\u001b[33mHeader record indicates a CPORT file, which is not readable.\u001b[39m\u001b[33m\"\u001b[39m\n\u001b[32m    302\u001b[39m         )\n\u001b[32m--> \u001b[39m\u001b[32m303\u001b[39m     \u001b[38;5;28;01mraise\u001b[39;00m \u001b[38;5;167;01mValueError\u001b[39;00m(\u001b[33m\"\u001b[39m\u001b[33mHeader record is not an XPORT file.\u001b[39m\u001b[33m\"\u001b[39m)\n\u001b[32m    305\u001b[39m line2 = \u001b[38;5;28mself\u001b[39m._get_row()\n\u001b[32m    306\u001b[39m fif = [[\u001b[33m\"\u001b[39m\u001b[33mprefix\u001b[39m\u001b[33m\"\u001b[39m, \u001b[32m24\u001b[39m], [\u001b[33m\"\u001b[39m\u001b[33mversion\u001b[39m\u001b[33m\"\u001b[39m, \u001b[32m8\u001b[39m], [\u001b[33m\"\u001b[39m\u001b[33mOS\u001b[39m\u001b[33m\"\u001b[39m, \u001b[32m8\u001b[39m], [\u001b[33m\"\u001b[39m\u001b[33m_\u001b[39m\u001b[33m\"\u001b[39m, \u001b[32m24\u001b[39m], [\u001b[33m\"\u001b[39m\u001b[33mcreated\u001b[39m\u001b[33m\"\u001b[39m, \u001b[32m16\u001b[39m]]\n",
      "\u001b[31mValueError\u001b[39m: Header record is not an XPORT file."
     ]
    }
   ],
   "source": [
    "import pandas as pd\n",
    "\n",
    "# Load each file into a DataFrame\n",
    "demo = pd.read_sas(os.path.join(output_folder, \"DEMO_J.XPT\"), format=\"xport\")\n",
    "bmx = pd.read_sas(os.path.join(output_folder, \"BMX_J.XPT\"), format=\"xport\")\n",
    "glu = pd.read_sas(os.path.join(output_folder, \"GLU_J.XPT\"), format=\"xport\")\n",
    "a1c = pd.read_sas(os.path.join(output_folder, \"A1C_J.XPT\"), format=\"xport\")\n",
    "ins = pd.read_sas(os.path.join(output_folder, \"INS_J.XPT\"), format=\"xport\")\n",
    "diq = pd.read_sas(os.path.join(output_folder, \"DIQ_J.XPT\"), format=\"xport\")\n",
    "diet = pd.read_sas(os.path.join(output_folder, \"DR1TOT_J.XPT\"), format=\"xport\")\n",
    "paq = pd.read_sas(os.path.join(output_folder, \"PAQ_J.XPT\"), format=\"xport\")\n",
    "\n",
    "print(\"✅ All files loaded.\")\n"
   ]
  },
  {
   "cell_type": "code",
   "execution_count": null,
   "id": "f15c18ae-f769-4e7a-a9fc-5446918c399f",
   "metadata": {},
   "outputs": [],
   "source": []
  }
 ],
 "metadata": {
  "kernelspec": {
   "display_name": "myenv",
   "language": "python",
   "name": "myenv"
  },
  "language_info": {
   "codemirror_mode": {
    "name": "ipython",
    "version": 3
   },
   "file_extension": ".py",
   "mimetype": "text/x-python",
   "name": "python",
   "nbconvert_exporter": "python",
   "pygments_lexer": "ipython3",
   "version": "3.13.3"
  }
 },
 "nbformat": 4,
 "nbformat_minor": 5
}
